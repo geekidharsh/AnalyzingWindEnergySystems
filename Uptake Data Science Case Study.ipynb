{
 "cells": [
  {
   "cell_type": "markdown",
   "metadata": {},
   "source": [
    "<br> <img src=\"images/uptake-logo-white.png\" align=\"left\" height=\"100\" width=\"100\">"
   ]
  },
  {
   "cell_type": "markdown",
   "metadata": {},
   "source": [
    "### Data Science Case Study \n",
    "by Harsh Pandey\n",
    "\n",
    "------"
   ]
  },
  {
   "cell_type": "markdown",
   "metadata": {},
   "source": [
    "### How To Run the File\n",
    "\n",
    "* Unzip the jar file: case-study-server.jar\n",
    "* From terminal / CLI, launch the case study server on port 8081:\n",
    "    `java -jar case-study-server 8081`\n",
    "* Make sure your machine has python3.5x. \n",
    "* `pip install pipreqs`\n",
    "* `pip install -r requirements.txt`\n",
    "\n",
    "Finally, run\n",
    "`python uptake.py`\n"
   ]
  },
  {
   "cell_type": "markdown",
   "metadata": {},
   "source": [
    "We begin by first connecting to the appropriate API endpoint. For this project, our api end point is http://localhost:8081/. \n",
    "\n",
    "We also have three query gateways: \n",
    "\n",
    "* /sites\n",
    "* /turbines\n",
    "* /signals\n",
    "\n",
    "\n",
    "So, first we will attempt to connect with the API using proper authentication. I am using Python's `requests` library to do this."
   ]
  },
  {
   "cell_type": "code",
   "execution_count": 203,
   "metadata": {},
   "outputs": [
    {
     "data": {
      "text/plain": [
       "<Response [200]>"
      ]
     },
     "execution_count": 203,
     "metadata": {},
     "output_type": "execute_result"
    }
   ],
   "source": [
    "import requests\n",
    "import pandas as pd\n",
    "import json\n",
    "import json\n",
    "import importlib.util\n",
    "import sys\n",
    "import os\n",
    "\n",
    "\n",
    "# api connection credentials\n",
    "url = 'http://localhost:8081/'\n",
    "apikey = 'casestudy'\n",
    "head = {'apikey': apikey}\n",
    "\n",
    "\n",
    "# sample get request\n",
    "sample_req = requests.get(url+'sites', params={}, headers=head)\n",
    "sample_req"
   ]
  },
  {
   "cell_type": "markdown",
   "metadata": {},
   "source": [
    "Perfect! A 200 response. Connection to this api has been established now. \n",
    "\n",
    "### Now let's make our life easy by writing request functions for each of the gateways: "
   ]
  },
  {
   "cell_type": "code",
   "execution_count": 204,
   "metadata": {},
   "outputs": [],
   "source": [
    "# helper functions\n",
    "def request_sites(url, head):\n",
    "\tendpointurl = url+'sites'\n",
    "\tparams = {}\n",
    "\n",
    "\t# get with head only, parameter: None\n",
    "\tr = requests.get(endpointurl, params=params, headers=head)\n",
    "\treturn r.text\n",
    "\n",
    "\n",
    "def request_turbines(url, siteid, head):\n",
    "\tendpointurl = url+'turbines'\n",
    "\tparams = {'siteId':siteid}\n",
    "\n",
    "\t# get with params and headers\n",
    "\tr = requests.get(endpointurl, params=params, headers=head)\n",
    "\treturn r.text\n",
    "\n",
    "\n",
    "def request_signals(url,turbineId, startEpochMs, endEpochMs, head):\n",
    "\tendpointurl = url+'signals'\n",
    "\tparams = {'turbineId': turbineId, 'startEpochMs': startEpochMs, 'endEpochMs': endEpochMs}\n",
    "\tr = requests.get(endpointurl, params=params, headers=head)\n",
    "\treturn r.text"
   ]
  },
  {
   "cell_type": "markdown",
   "metadata": {},
   "source": [
    "### Sample response coming from each request\n"
   ]
  },
  {
   "cell_type": "code",
   "execution_count": 205,
   "metadata": {},
   "outputs": [
    {
     "data": {
      "text/plain": [
       "'[{\"operatorName\":\"operator_1\",\"siteId\":\"site_1\",\"coordinates\":[-90.344927,40.712915]},{\"operatorName\":\"operator_2\",\"siteId\":\"site_2\",\"coordinates\":[-120.566084,38.821521]},{\"operatorName\":\"operator_3\",\"siteId\":\"site_3\",\"coordinates\":[-101.590009,23.562728]}]'"
      ]
     },
     "execution_count": 205,
     "metadata": {},
     "output_type": "execute_result"
    }
   ],
   "source": [
    "sites = request_sites(url, head)\n",
    "sites"
   ]
  },
  {
   "cell_type": "code",
   "execution_count": 206,
   "metadata": {},
   "outputs": [
    {
     "data": {
      "text/plain": [
       "'[{\"turbineId\":\"turbine_1\",\"coordinates\":[-90.344923,40.712953],\"manufacturer\":\"manufacturer_1\",\"model\":\"OJLQ\"},{\"turbineId\":\"turbine_2\",\"coordinates\":[-90.344946,40.712944],\"manufacturer\":\"manufacturer_1\",\"model\":\"FEGU\"},{\"turbineId\":\"turbine_3\",\"coordinates\":[-90.344928,40.712931],\"manufacturer\":\"manufacturer_1\",\"model\":\"ENHY\"},{\"turbineId\":\"turbine_4\",\"coordinates\":[-90.344974,40.712964],\"manufacturer\":\"manufacturer_1\",\"model\":\"KIYY\"},{\"turbineId\":\"turbine_5\",\"coordinates\":[-90.344996,40.712974],\"manufacturer\":\"manufacturer_1\",\"model\":\"UJUY\"},{\"turbineId\":\"turbine_6\",\"coordinates\":[-90.344957,40.712996],\"manufacturer\":\"manufacturer_1\",\"model\":\"VCTF\"}]'"
      ]
     },
     "execution_count": 206,
     "metadata": {},
     "output_type": "execute_result"
    }
   ],
   "source": [
    "turbines = request_turbines(url, \"site_1\", head)\n",
    "turbines"
   ]
  },
  {
   "cell_type": "code",
   "execution_count": 207,
   "metadata": {},
   "outputs": [
    {
     "data": {
      "text/plain": [
       "'[{\"rpm\":7.5,\"temperature\":32.6,\"power\":545.0,\"windSpeed\":30.0,\"orientation\":31.0,\"vibration\":8299.0,\"cellTemp\":30.3,\"bearingTemp\":30.8,\"gear\":\"gear_3\",\"timestamp\":\"2018-08-21T19:48:58.360-0500\"}]'"
      ]
     },
     "execution_count": 207,
     "metadata": {},
     "output_type": "execute_result"
    }
   ],
   "source": [
    "signals = request_signals(url, \"turbine_1\", 1534898938360, 1534898938360, head)\n",
    "signals"
   ]
  },
  {
   "cell_type": "markdown",
   "metadata": {},
   "source": [
    "## Transformation\n",
    "\n",
    "Looks like the above reponse is a document with key value pairs. Pattern appears to be a json response.\n",
    "\n",
    "I am using Python's `pandas` and `json` libary to start cleaning and transforming the incoming data from Customer API"
   ]
  },
  {
   "cell_type": "markdown",
   "metadata": {},
   "source": []
  },
  {
   "cell_type": "code",
   "execution_count": 208,
   "metadata": {},
   "outputs": [],
   "source": [
    "def clean_response(requestBody):\n",
    "    # Takes incoming request body and transforms it into a json body\n",
    "    # further transforms the json body into a pandas dataframe and returns it\n",
    "\n",
    "    requestBody = json.loads(requestBody) #convert to json body\n",
    "    df = pd.DataFrame(requestBody) # set a new dataframe 'df' using requestBody\n",
    "    return df\n",
    "\n",
    "\n",
    "# clean incoming responses\n",
    "sites = clean_response(sites)\n",
    "turbines = clean_reponse(turbines)\n",
    "signals = clean_response(signals)"
   ]
  },
  {
   "cell_type": "code",
   "execution_count": 209,
   "metadata": {},
   "outputs": [
    {
     "data": {
      "text/html": [
       "<div>\n",
       "<style scoped>\n",
       "    .dataframe tbody tr th:only-of-type {\n",
       "        vertical-align: middle;\n",
       "    }\n",
       "\n",
       "    .dataframe tbody tr th {\n",
       "        vertical-align: top;\n",
       "    }\n",
       "\n",
       "    .dataframe thead th {\n",
       "        text-align: right;\n",
       "    }\n",
       "</style>\n",
       "<table border=\"1\" class=\"dataframe\">\n",
       "  <thead>\n",
       "    <tr style=\"text-align: right;\">\n",
       "      <th></th>\n",
       "      <th>coordinates</th>\n",
       "      <th>operatorName</th>\n",
       "      <th>siteId</th>\n",
       "    </tr>\n",
       "  </thead>\n",
       "  <tbody>\n",
       "    <tr>\n",
       "      <th>0</th>\n",
       "      <td>[-90.344927, 40.712915]</td>\n",
       "      <td>operator_1</td>\n",
       "      <td>site_1</td>\n",
       "    </tr>\n",
       "    <tr>\n",
       "      <th>1</th>\n",
       "      <td>[-120.566084, 38.821521]</td>\n",
       "      <td>operator_2</td>\n",
       "      <td>site_2</td>\n",
       "    </tr>\n",
       "    <tr>\n",
       "      <th>2</th>\n",
       "      <td>[-101.590009, 23.562728]</td>\n",
       "      <td>operator_3</td>\n",
       "      <td>site_3</td>\n",
       "    </tr>\n",
       "  </tbody>\n",
       "</table>\n",
       "</div>"
      ],
      "text/plain": [
       "                coordinates operatorName  siteId\n",
       "0   [-90.344927, 40.712915]   operator_1  site_1\n",
       "1  [-120.566084, 38.821521]   operator_2  site_2\n",
       "2  [-101.590009, 23.562728]   operator_3  site_3"
      ]
     },
     "execution_count": 209,
     "metadata": {},
     "output_type": "execute_result"
    }
   ],
   "source": [
    "sites.head()"
   ]
  },
  {
   "cell_type": "code",
   "execution_count": 210,
   "metadata": {},
   "outputs": [
    {
     "data": {
      "text/html": [
       "<div>\n",
       "<style scoped>\n",
       "    .dataframe tbody tr th:only-of-type {\n",
       "        vertical-align: middle;\n",
       "    }\n",
       "\n",
       "    .dataframe tbody tr th {\n",
       "        vertical-align: top;\n",
       "    }\n",
       "\n",
       "    .dataframe thead th {\n",
       "        text-align: right;\n",
       "    }\n",
       "</style>\n",
       "<table border=\"1\" class=\"dataframe\">\n",
       "  <thead>\n",
       "    <tr style=\"text-align: right;\">\n",
       "      <th></th>\n",
       "      <th>coordinates</th>\n",
       "      <th>manufacturer</th>\n",
       "      <th>model</th>\n",
       "      <th>turbineId</th>\n",
       "    </tr>\n",
       "  </thead>\n",
       "  <tbody>\n",
       "    <tr>\n",
       "      <th>0</th>\n",
       "      <td>[-90.344923, 40.712953]</td>\n",
       "      <td>manufacturer_1</td>\n",
       "      <td>OJLQ</td>\n",
       "      <td>turbine_1</td>\n",
       "    </tr>\n",
       "    <tr>\n",
       "      <th>1</th>\n",
       "      <td>[-90.344946, 40.712944]</td>\n",
       "      <td>manufacturer_1</td>\n",
       "      <td>FEGU</td>\n",
       "      <td>turbine_2</td>\n",
       "    </tr>\n",
       "    <tr>\n",
       "      <th>2</th>\n",
       "      <td>[-90.344928, 40.712931]</td>\n",
       "      <td>manufacturer_1</td>\n",
       "      <td>ENHY</td>\n",
       "      <td>turbine_3</td>\n",
       "    </tr>\n",
       "    <tr>\n",
       "      <th>3</th>\n",
       "      <td>[-90.344974, 40.712964]</td>\n",
       "      <td>manufacturer_1</td>\n",
       "      <td>KIYY</td>\n",
       "      <td>turbine_4</td>\n",
       "    </tr>\n",
       "    <tr>\n",
       "      <th>4</th>\n",
       "      <td>[-90.344996, 40.712974]</td>\n",
       "      <td>manufacturer_1</td>\n",
       "      <td>UJUY</td>\n",
       "      <td>turbine_5</td>\n",
       "    </tr>\n",
       "  </tbody>\n",
       "</table>\n",
       "</div>"
      ],
      "text/plain": [
       "               coordinates    manufacturer model  turbineId\n",
       "0  [-90.344923, 40.712953]  manufacturer_1  OJLQ  turbine_1\n",
       "1  [-90.344946, 40.712944]  manufacturer_1  FEGU  turbine_2\n",
       "2  [-90.344928, 40.712931]  manufacturer_1  ENHY  turbine_3\n",
       "3  [-90.344974, 40.712964]  manufacturer_1  KIYY  turbine_4\n",
       "4  [-90.344996, 40.712974]  manufacturer_1  UJUY  turbine_5"
      ]
     },
     "execution_count": 210,
     "metadata": {},
     "output_type": "execute_result"
    }
   ],
   "source": [
    "turbines.head()"
   ]
  },
  {
   "cell_type": "code",
   "execution_count": 211,
   "metadata": {},
   "outputs": [
    {
     "data": {
      "text/html": [
       "<div>\n",
       "<style scoped>\n",
       "    .dataframe tbody tr th:only-of-type {\n",
       "        vertical-align: middle;\n",
       "    }\n",
       "\n",
       "    .dataframe tbody tr th {\n",
       "        vertical-align: top;\n",
       "    }\n",
       "\n",
       "    .dataframe thead th {\n",
       "        text-align: right;\n",
       "    }\n",
       "</style>\n",
       "<table border=\"1\" class=\"dataframe\">\n",
       "  <thead>\n",
       "    <tr style=\"text-align: right;\">\n",
       "      <th></th>\n",
       "      <th>bearingTemp</th>\n",
       "      <th>cellTemp</th>\n",
       "      <th>gear</th>\n",
       "      <th>orientation</th>\n",
       "      <th>power</th>\n",
       "      <th>rpm</th>\n",
       "      <th>temperature</th>\n",
       "      <th>timestamp</th>\n",
       "      <th>vibration</th>\n",
       "      <th>windSpeed</th>\n",
       "    </tr>\n",
       "  </thead>\n",
       "  <tbody>\n",
       "    <tr>\n",
       "      <th>0</th>\n",
       "      <td>30.8</td>\n",
       "      <td>30.3</td>\n",
       "      <td>gear_3</td>\n",
       "      <td>31.0</td>\n",
       "      <td>545.0</td>\n",
       "      <td>7.5</td>\n",
       "      <td>32.6</td>\n",
       "      <td>2018-08-21T19:48:58.360-0500</td>\n",
       "      <td>8299.0</td>\n",
       "      <td>30.0</td>\n",
       "    </tr>\n",
       "  </tbody>\n",
       "</table>\n",
       "</div>"
      ],
      "text/plain": [
       "   bearingTemp  cellTemp    gear  orientation  power  rpm  temperature  \\\n",
       "0         30.8      30.3  gear_3         31.0  545.0  7.5         32.6   \n",
       "\n",
       "                      timestamp  vibration  windSpeed  \n",
       "0  2018-08-21T19:48:58.360-0500     8299.0       30.0  "
      ]
     },
     "execution_count": 211,
     "metadata": {},
     "output_type": "execute_result"
    }
   ],
   "source": [
    "signals.head()"
   ]
  },
  {
   "cell_type": "markdown",
   "metadata": {},
   "source": [
    "### Fetch entire dataset from the API\n",
    "\n",
    "We only need to fetch data for the following two datasets: turbines and signals. Sites data is complete."
   ]
  },
  {
   "cell_type": "code",
   "execution_count": 212,
   "metadata": {},
   "outputs": [
    {
     "data": {
      "text/plain": [
       "['site_1', 'site_2', 'site_3']"
      ]
     },
     "execution_count": 212,
     "metadata": {},
     "output_type": "execute_result"
    }
   ],
   "source": [
    "# get all unique site ids \n",
    "total_sites = sites['siteId'].unique().tolist()\n",
    "total_sites"
   ]
  },
  {
   "cell_type": "code",
   "execution_count": 222,
   "metadata": {},
   "outputs": [],
   "source": [
    "# there are three site ids\n",
    "# we will now extract all turbine data for each of the site id\n",
    "all_turbine_data = pd.DataFrame()\n",
    "for site in total_sites: \n",
    "    turbines = request_turbines(url, site, head)\n",
    "    turbines = clean_reponse(turbines)\n",
    "    all_turbine_data = all_turbine_data.append(turbines, ignore_index=True)\n",
    "\n",
    "# Save data to temp destination\n",
    "def create_destination(filename):\n",
    "\tdestination = os.getcwd()+\"/\"+\"raw_data\"\n",
    "\n",
    "\t#check if the folders exists already\n",
    "\tif (os.path.exists(destination)):\n",
    "\t\tprint(\"Warning: Folder for given dates exists at the location\", destination)\n",
    "\telse: \n",
    "\t\tos.mkdir(destination)\n",
    "\n",
    "\tfilename = destination+\"/\"+filename+\".csv\"\n",
    "\treturn filename"
   ]
  },
  {
   "cell_type": "code",
   "execution_count": 197,
   "metadata": {},
   "outputs": [
    {
     "data": {
      "text/html": [
       "<div>\n",
       "<style scoped>\n",
       "    .dataframe tbody tr th:only-of-type {\n",
       "        vertical-align: middle;\n",
       "    }\n",
       "\n",
       "    .dataframe tbody tr th {\n",
       "        vertical-align: top;\n",
       "    }\n",
       "\n",
       "    .dataframe thead th {\n",
       "        text-align: right;\n",
       "    }\n",
       "</style>\n",
       "<table border=\"1\" class=\"dataframe\">\n",
       "  <thead>\n",
       "    <tr style=\"text-align: right;\">\n",
       "      <th></th>\n",
       "      <th>bearingTemp</th>\n",
       "      <th>cellTemp</th>\n",
       "      <th>gear</th>\n",
       "      <th>orientation</th>\n",
       "      <th>power</th>\n",
       "      <th>rpm</th>\n",
       "      <th>temperature</th>\n",
       "      <th>timestamp</th>\n",
       "      <th>vibration</th>\n",
       "      <th>windSpeed</th>\n",
       "    </tr>\n",
       "  </thead>\n",
       "  <tbody>\n",
       "    <tr>\n",
       "      <th>0</th>\n",
       "      <td>30.8</td>\n",
       "      <td>30.3</td>\n",
       "      <td>gear_3</td>\n",
       "      <td>31.0</td>\n",
       "      <td>545.0</td>\n",
       "      <td>7.5</td>\n",
       "      <td>32.6</td>\n",
       "      <td>2018-08-21T19:48:58.360-0500</td>\n",
       "      <td>8299.0</td>\n",
       "      <td>30.0</td>\n",
       "    </tr>\n",
       "  </tbody>\n",
       "</table>\n",
       "</div>"
      ],
      "text/plain": [
       "   bearingTemp  cellTemp    gear  orientation  power  rpm  temperature  \\\n",
       "0         30.8      30.3  gear_3         31.0  545.0  7.5         32.6   \n",
       "\n",
       "                      timestamp  vibration  windSpeed  \n",
       "0  2018-08-21T19:48:58.360-0500     8299.0       30.0  "
      ]
     },
     "execution_count": 197,
     "metadata": {},
     "output_type": "execute_result"
    }
   ],
   "source": [
    "signals.head()"
   ]
  },
  {
   "cell_type": "code",
   "execution_count": 198,
   "metadata": {},
   "outputs": [
    {
     "data": {
      "text/plain": [
       "array(['turbine_1', 'turbine_2', 'turbine_3', 'turbine_4', 'turbine_5',\n",
       "       'turbine_6', 'turbine_7', 'turbine_8', 'turbine_9', 'turbine_14',\n",
       "       'turbine_15', 'turbine_16', 'turbine_17', 'turbine_18',\n",
       "       'turbine_19', 'turbine_21', 'turbine_22'], dtype=object)"
      ]
     },
     "execution_count": 198,
     "metadata": {},
     "output_type": "execute_result"
    }
   ],
   "source": [
    "turbineIds = all_turbine_data['turbineId'].unique()\n",
    "turbineIds"
   ]
  },
  {
   "cell_type": "markdown",
   "metadata": {},
   "source": [
    "Based on the case study, possible number of epoch timestamps in milliseconds between Aug 20 2018 and Aug 26 2018 is:\n",
    "\n",
    "* 518400 times number of unique turbineIds, or\n",
    "* 518400 * 17 request calls.\n",
    "\n",
    "I was debating as to making so many calls to the API is a good idea in a real world situation would be a good idea or not?\n",
    "\n",
    "I am going to refer to the signals.csv file to get a list of possible timestamps in epochms."
   ]
  },
  {
   "cell_type": "code",
   "execution_count": 182,
   "metadata": {},
   "outputs": [
    {
     "name": "stdout",
     "output_type": "stream",
     "text": [
      "Column is rpm and total unique values are 62\n",
      "Column is temperature and total unique values are 54\n",
      "Column is power and total unique values are 100\n",
      "Column is windSpeed and total unique values are 18\n",
      "Column is orientation and total unique values are 23\n",
      "Column is vibration and total unique values are 177\n",
      "Column is cellTemp and total unique values are 55\n",
      "Column is bearingTemp and total unique values are 38\n",
      "Column is bladeAngle and total unique values are 27\n",
      "Column is gear and total unique values are 5\n",
      "Column is timestamp and total unique values are 185\n",
      "Column is turbineId and total unique values are 17\n"
     ]
    }
   ],
   "source": [
    "# read signal_data from file\n",
    "signal_data = pd.read_csv('case-study-server/signal.csv')\n",
    "\n",
    "# convert columns in signal_data to a list\n",
    "cols = signal_data.columns.tolist()\n",
    "\n",
    "# check number of unique values per column in signal_data\n",
    "for i in cols:\n",
    "    print(\"Column is {} and total unique values are {}\".format(i, signal_data[i].nunique()))"
   ]
  },
  {
   "cell_type": "code",
   "execution_count": 223,
   "metadata": {},
   "outputs": [
    {
     "name": "stdout",
     "output_type": "stream",
     "text": [
      "Warning: Folder for given dates exists at the location /Users/harshvardhanpandey/OneDrive/Study and Courses/uptake/raw_data\n",
      "Warning: Folder for given dates exists at the location /Users/harshvardhanpandey/OneDrive/Study and Courses/uptake/raw_data\n",
      "Warning: Folder for given dates exists at the location /Users/harshvardhanpandey/OneDrive/Study and Courses/uptake/raw_data\n"
     ]
    }
   ],
   "source": [
    "# save api data locally\n",
    "sites_file = create_destination('sites')\n",
    "sites.to_csv(sites_file, index=False)\n",
    "\n",
    "turbine_file = create_destination('all_turbines_data')\n",
    "all_turbine_data.to_csv(turbine_file, index=False)\n",
    "\n",
    "\n",
    "signal_file = create_destination('signal')\n",
    "signal_data.to_csv(signal_file, index=False)"
   ]
  },
  {
   "cell_type": "markdown",
   "metadata": {},
   "source": [
    "## Analysis"
   ]
  },
  {
   "cell_type": "markdown",
   "metadata": {},
   "source": [
    "1. Load data\n",
    "2. join data to analyze"
   ]
  },
  {
   "cell_type": "code",
   "execution_count": null,
   "metadata": {},
   "outputs": [],
   "source": [
    "Following Steps in the application: \n",
    "    \n",
    "\n",
    "Connect to the database\n",
    "Ingest files from raw_data/ to the database\n"
   ]
  }
 ],
 "metadata": {
  "kernelspec": {
   "display_name": "Python 3",
   "language": "python",
   "name": "python3"
  },
  "language_info": {
   "codemirror_mode": {
    "name": "ipython",
    "version": 3
   },
   "file_extension": ".py",
   "mimetype": "text/x-python",
   "name": "python",
   "nbconvert_exporter": "python",
   "pygments_lexer": "ipython3",
   "version": "3.6.5"
  }
 },
 "nbformat": 4,
 "nbformat_minor": 2
}
